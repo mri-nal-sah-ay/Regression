{
  "nbformat": 4,
  "nbformat_minor": 0,
  "metadata": {
    "colab": {
      "provenance": []
    },
    "kernelspec": {
      "name": "python3",
      "display_name": "Python 3"
    },
    "language_info": {
      "name": "python"
    }
  },
  "cells": [
    {
      "cell_type": "markdown",
      "source": [
        "Q1. What is Simple Linear Regression ?\n",
        "\n",
        "*   Simple Linear Regression is a method used to model the relationship between two variables by fitting a linear equation to the observed data.\n"
      ],
      "metadata": {
        "id": "A2WCOO1_bxCT"
      }
    },
    {
      "cell_type": "markdown",
      "source": [
        "Q2.  What are the key assumptions of Simple Linear Regression ?\n",
        "\n",
        "*   Linearity: The relationship between the independent and dependent variable is linear.\n",
        "\n",
        "* Independence: The residuals (errors) are independent of each other.\n",
        "\n",
        "* Homoscedasticity: The residuals have constant variance.\n",
        "\n",
        "* Normality: The residuals are normally distributed.\n"
      ],
      "metadata": {
        "id": "wuxKdDyKcCXo"
      }
    },
    {
      "cell_type": "markdown",
      "source": [
        "Q3. What does the coefficient m represent in the equation Y=mX+c ?\n",
        "\n",
        "*   The coefficient \"m\" represents the slope of the line, which indicates how much the dependent variable Y changes for a one-unit change in the independent variable X.\n",
        "\n"
      ],
      "metadata": {
        "id": "NuA1ezHpcTSr"
      }
    },
    {
      "cell_type": "markdown",
      "source": [
        "Q4.  What does the intercept c represent in the equation Y=mX+c ?\n",
        "\n",
        "*   The intercept \"c\" represents the value of Y when X is zero, i.e., the point where the line crosses the Y-axis.\n"
      ],
      "metadata": {
        "id": "H0gxnGxVcd7E"
      }
    },
    {
      "cell_type": "markdown",
      "source": [
        "Q5. How do we calculate the slope m in Simple Linear Regression ?\n",
        "\n",
        "*   The slope \"m\" is calculated as the covariance between X and Y divided by the variance of X.\n",
        "\n",
        "\n"
      ],
      "metadata": {
        "id": "ee4zEK9OdGYH"
      }
    },
    {
      "cell_type": "code",
      "execution_count": 1,
      "metadata": {
        "colab": {
          "base_uri": "https://localhost:8080/"
        },
        "id": "567UbNHsbqgB",
        "outputId": "0be2dced-cd71-4aab-b982-2b8ee3f51bcc"
      },
      "outputs": [
        {
          "output_type": "stream",
          "name": "stdout",
          "text": [
            "Slope (m): 0.6000000000000001\n"
          ]
        }
      ],
      "source": [
        "import numpy as np\n",
        "\n",
        "X = np.array([1, 2, 3, 4, 5])\n",
        "Y = np.array([2, 4, 5, 4, 5])\n",
        "\n",
        "# slope (m)\n",
        "m = np.cov(X, Y, bias=True)[0, 1] / np.var(X)\n",
        "print(\"Slope (m):\", m)"
      ]
    },
    {
      "cell_type": "markdown",
      "source": [
        "Q6. What is the purpose of the least squares method in Simple Linear Regression ?\n",
        "\n",
        "*   The least squares method minimizes the sum of the squared differences between the observed values and the predicted values to find the best-fitting line.\n",
        "\n"
      ],
      "metadata": {
        "id": "nvOjqOvrdRan"
      }
    },
    {
      "cell_type": "markdown",
      "source": [
        "Q7.  How is the coefficient of determination (R²) interpreted in Simple Linear Regression ?\n",
        "\n",
        "*   R² represents the proportion of the variance in the dependent variable that is explained by the independent variable. A value closer to 1 indicates a better fit.\n",
        "\n"
      ],
      "metadata": {
        "id": "hKU4DZmFdcf6"
      }
    },
    {
      "cell_type": "markdown",
      "source": [
        "Q8. What is Multiple Linear Regression ?\n",
        "\n",
        "*   Multiple Linear Regression is a method used to model the relationship between two or more independent variables and a dependent variable by fitting a linear equation.\n"
      ],
      "metadata": {
        "id": "Ice1bjmidrtd"
      }
    },
    {
      "cell_type": "markdown",
      "source": [
        "Q9. What is the main difference between Simple and Multiple Linear Regression ?\n",
        "\n",
        "*   Simple Linear Regression uses one independent variable, while Multiple Linear Regression uses two or more independent variables.\n",
        "\n"
      ],
      "metadata": {
        "id": "dIvHsztFdywv"
      }
    },
    {
      "cell_type": "markdown",
      "source": [
        "Q10. What are the key assumptions of Multiple Linear Regression ?\n",
        "\n",
        "*   Linearity: The relationship between independent and dependent variables is linear.\n",
        "\n",
        "* Independence: The residuals are independent.\n",
        "\n",
        "* Homoscedasticity: Constant variance of residuals.\n",
        "\n",
        "* No multicollinearity: Independent variables are not highly correlated.\n",
        "\n"
      ],
      "metadata": {
        "id": "X8yqFmZqgNUl"
      }
    },
    {
      "cell_type": "markdown",
      "source": [
        "Q11. What is heteroscedasticity, and how does it affect the results of a Multiple Linear Regression model ?\n",
        "\n",
        "*   Heteroscedasticity occurs when the variance of the residuals is not constant. It can lead to biased estimates of the regression coefficients and affect hypothesis testing.\n"
      ],
      "metadata": {
        "id": "UL1zdb0JgYYW"
      }
    },
    {
      "cell_type": "markdown",
      "source": [
        "Q12.  How can you improve a Multiple Linear Regression model with high multicollinearity ?\n",
        "\n",
        "*   You can remove highly correlated variables, combine similar variables, or use techniques like ridge regression or principal component analysis (PCA).\n",
        "\n"
      ],
      "metadata": {
        "id": "Bwx2ddGqgha4"
      }
    },
    {
      "cell_type": "markdown",
      "source": [
        "Q13. What are some common techniques for transforming categorical variables for use in regression models ?\n",
        "\n",
        "*   Common techniques include One-Hot Encoding and Label Encoding.\n",
        "\n"
      ],
      "metadata": {
        "id": "iayGr_o-gugR"
      }
    },
    {
      "cell_type": "code",
      "source": [
        "import pandas as pd\n",
        "\n",
        "df = pd.DataFrame({'Color': ['Red', 'Blue', 'Green']})\n",
        "one_hot = pd.get_dummies(df['Color'], drop_first=True)\n",
        "print(one_hot)"
      ],
      "metadata": {
        "colab": {
          "base_uri": "https://localhost:8080/"
        },
        "id": "I7uyubbQg2ww",
        "outputId": "89d51b9c-3ad5-4456-a735-709ffec6a5ac"
      },
      "execution_count": 2,
      "outputs": [
        {
          "output_type": "stream",
          "name": "stdout",
          "text": [
            "   Green    Red\n",
            "0  False   True\n",
            "1  False  False\n",
            "2   True  False\n"
          ]
        }
      ]
    },
    {
      "cell_type": "markdown",
      "source": [
        "Q14. What is the role of interaction terms in Multiple Linear Regression ?\n",
        "\n",
        "*   Interaction terms capture the combined effect of two or more independent variables on the dependent variable, showing if their relationship is not purely additive.\n",
        "\n"
      ],
      "metadata": {
        "id": "BRs-3hXhg8HY"
      }
    },
    {
      "cell_type": "markdown",
      "source": [
        "Q15. How can the interpretation of intercept differ between Simple and Multiple Linear Regression ?\n",
        "\n",
        "*   In Simple Linear Regression, the intercept is the value of Y when X is zero. In Multiple Linear Regression, it represents the value of Y when all independent variables are zero.\n"
      ],
      "metadata": {
        "id": "Z4xNO_KqhG8i"
      }
    },
    {
      "cell_type": "markdown",
      "source": [
        "Q16. What is the significance of the slope in regression analysis, and how does it affect predictions ?\n",
        "\n",
        "*   The slope shows how the dependent variable changes with respect to the independent variable, affecting how predictions are made.\n"
      ],
      "metadata": {
        "id": "L0LwkzUehagx"
      }
    },
    {
      "cell_type": "markdown",
      "source": [
        "Q17. How does the intercept in a regression model provide context for the relationship between variables ?\n",
        "\n",
        "*   The intercept helps understand the baseline value of the dependent variable when all predictors are zero.\n",
        "\n"
      ],
      "metadata": {
        "id": "N92kfS8BiBTP"
      }
    },
    {
      "cell_type": "markdown",
      "source": [
        "Q18. What are the limitations of using R² as a sole measure of model performance ?\n",
        "\n",
        "*   R² may be misleading if the model has too many predictors, as it always increases with more variables, even if they are irrelevant.\n"
      ],
      "metadata": {
        "id": "0iC31y84iHwv"
      }
    },
    {
      "cell_type": "markdown",
      "source": [
        "Q19.  How would you interpret a large standard error for a regression coefficient ?\n",
        "\n",
        "*   A large standard error indicates that the coefficient is estimated with less precision, suggesting less confidence in the result.\n",
        "\n"
      ],
      "metadata": {
        "id": "v7OLtB-xiPpJ"
      }
    },
    {
      "cell_type": "markdown",
      "source": [
        "Q20. How can heteroscedasticity be identified in residual plots, and why is it important to address it ?\n",
        "\n",
        "*   Heteroscedasticity can be identified if the residuals display a pattern (like a funnel shape) in plots. It needs to be addressed because it can affect the reliability of the regression estimates.\n",
        "\n"
      ],
      "metadata": {
        "id": "9CI1cqMpiYGz"
      }
    },
    {
      "cell_type": "code",
      "source": [
        "import matplotlib.pyplot as plt\n",
        "from sklearn.linear_model import LinearRegression\n",
        "\n",
        "X = X.reshape(-1, 1)\n",
        "model = LinearRegression().fit(X, Y)\n",
        "residuals = Y - model.predict(X)\n",
        "\n",
        "plt.scatter(X, residuals)\n",
        "plt.axhline(0, color='red')\n",
        "plt.title(\"Residual Plot\")\n",
        "plt.show()"
      ],
      "metadata": {
        "colab": {
          "base_uri": "https://localhost:8080/",
          "height": 452
        },
        "id": "axUTLTyLkXuG",
        "outputId": "c8b47286-3775-4f6f-a257-91f1d0f70627"
      },
      "execution_count": 3,
      "outputs": [
        {
          "output_type": "display_data",
          "data": {
            "text/plain": [
              "<Figure size 640x480 with 1 Axes>"
            ],
            "image/png": "[encoded data removed]"
          },
          "metadata": {}
        }
      ]
    },
    {
      "cell_type": "markdown",
      "source": [
        "Q21. What does it mean if a Multiple Linear Regression model has a high R² but low adjusted R² ?\n",
        "\n",
        "*   Multiple Linear Regression - It means the model is overfitting, and the high R² is due to including unnecessary predictors that don't improve the model's predictive power.\n",
        "\n"
      ],
      "metadata": {
        "id": "wP2X-Fsjir51"
      }
    },
    {
      "cell_type": "markdown",
      "source": [
        "Q22. Why is it important to scale variables in Multiple Linear Regression ?\n",
        "\n",
        "*   Scaling variables ensures that all predictors contribute equally to the model, especially when they are on different scales.\n",
        "\n"
      ],
      "metadata": {
        "id": "Q_R6m7Tai4Ag"
      }
    },
    {
      "cell_type": "markdown",
      "source": [
        "Q23. What is polynomial regression ?\n",
        "\n",
        "*   Polynomial regression is a type of regression that models the relationship between the independent variable and the dependent variable as an nth-degree polynomial.\n",
        "\n"
      ],
      "metadata": {
        "id": "WwPS3Wxxi-MB"
      }
    },
    {
      "cell_type": "markdown",
      "source": [
        "Q24. How does polynomial regression differ from linear regression ?\n",
        "\n",
        "*   Polynomial regression can model curved relationships between variables, while linear regression only models straight-line relationships.\n",
        "\n"
      ],
      "metadata": {
        "id": "08CF8DAUjEEa"
      }
    },
    {
      "cell_type": "markdown",
      "source": [
        "Q25. When is polynomial regression used ?\n",
        "\n",
        "*   Polynomial regression is used when the relationship between the variables is not linear, and a curve fits the data better.\n"
      ],
      "metadata": {
        "id": "kSDGqM6JjKmN"
      }
    },
    {
      "cell_type": "markdown",
      "source": [
        "Q26. What is the general equation for polynomial regression ?\n",
        "\n",
        "*   The general equation is Y = β₀ + β₁X + β₂X² + ... + βnXⁿ, where n is the degree of the polynomial.\n"
      ],
      "metadata": {
        "id": "DB5mjIyfjQ1x"
      }
    },
    {
      "cell_type": "markdown",
      "source": [
        "Q27. Can polynomial regression be applied to multiple variables ?\n",
        "\n",
        "\n",
        "*   Yes, polynomial regression can be extended to multiple variables by adding interaction terms and higher-order powers of the predictors.\n",
        "\n"
      ],
      "metadata": {
        "id": "slYVq4ZLjZlJ"
      }
    },
    {
      "cell_type": "markdown",
      "source": [
        "Q28. What are the limitations of polynomial regression ?\n",
        "\n",
        "*   Polynomial regression can lead to overfitting if the degree of the polynomial is too high, and it can be sensitive to outliers.\n"
      ],
      "metadata": {
        "id": "EHA61EEIjzWf"
      }
    },
    {
      "cell_type": "markdown",
      "source": [
        "Q29. What methods can be used to evaluate model fit when selecting the degree of a polynomial ?\n",
        "\n",
        "*   Cross-validation, adjusting R², and looking at residual plots can help evaluate the model fit."
      ],
      "metadata": {
        "id": "gRs5BYvBj6Nh"
      }
    },
    {
      "cell_type": "markdown",
      "source": [
        "Q30. Why is visualization important in polynomial regression ?\n",
        "\n",
        "*   Visualization helps to understand how well the model fits the data and whether a polynomial curve is an appropriate model.\n",
        "\n"
      ],
      "metadata": {
        "id": "SjYbMrNqj_ja"
      }
    },
    {
      "cell_type": "markdown",
      "source": [
        "Q31. How is polynomial regression implemented in Python ?\n",
        "\n",
        "*   Polynomial regression in Python can be implemented using libraries like numpy for generating polynomial features and sklearn for fitting the model.\n"
      ],
      "metadata": {
        "id": "X4Ic3CQukLn-"
      }
    },
    {
      "cell_type": "code",
      "source": [
        "import numpy as np\n",
        "import matplotlib.pyplot as plt\n",
        "from sklearn.linear_model import LinearRegression\n",
        "from sklearn.preprocessing import PolynomialFeatures\n",
        "\n",
        "X = np.array([1, 2, 3, 4, 5]).reshape(-1, 1)\n",
        "Y = np.array([1, 4, 9, 16, 25])  # quadratic pattern\n",
        "\n",
        "poly = PolynomialFeatures(degree=2)\n",
        "X_poly = poly.fit_transform(X)\n",
        "\n",
        "model = LinearRegression()\n",
        "model.fit(X_poly, Y)\n",
        "Y_pred = model.predict(X_poly)\n",
        "\n",
        "plt.scatter(X, Y, color='blue')\n",
        "plt.plot(X, Y_pred, color='red')\n",
        "plt.title(\"Polynomial Regression\")\n",
        "plt.show()"
      ],
      "metadata": {
        "id": "0xAdmu-KkcTm",
        "outputId": "7dc0498b-b8e8-41c1-9599-fa3e00ee2611",
        "colab": {
          "base_uri": "https://localhost:8080/",
          "height": 452
        }
      },
      "execution_count": 4,
      "outputs": [
        {
          "output_type": "display_data",
          "data": {
            "text/plain": [
              "<Figure size 640x480 with 1 Axes>"
            ],
            "image/png": "[encoded data removed]"
          },
          "metadata": {}
        }
      ]
    }
  ]
}